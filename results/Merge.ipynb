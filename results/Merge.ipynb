{
 "cells": [
  {
   "cell_type": "code",
   "execution_count": 2,
   "id": "a9399e56-738a-493b-aa52-e0ed4458d6b8",
   "metadata": {},
   "outputs": [
    {
     "name": "stdout",
     "output_type": "stream",
     "text": [
      "Excel files successfully merged into mergedKNN.xlsx\n"
     ]
    }
   ],
   "source": [
    "import pandas as pd\n",
    "\n",
    "file_list = [\n",
    "    \"selected_cluster_KMeans_cluster1.xlsx\", \"selected_cluster_KMeans_cluster2.xlsx\", \"selected_cluster_KMeans_cluster3.xlsx\", \"selected_cluster_KMeans_cluster4.xlsx\", \"selected_cluster_KMeans_cluster5.xlsx\",\n",
    "    \"selected_cluster_KMeans_cluster6.xlsx\", \"selected_cluster_KMeans_cluster7.xlsx\", \"selected_cluster_KMeans_cluster8.xlsx\", \"selected_cluster_KMeans_cluster9.xlsx\", \"selected_cluster_KMeans_cluster10.xlsx\"\n",
    "]\n",
    "\n",
    "output_file = \"mergedKNN.xlsx\"\n",
    "\n",
    "try:\n",
    "    dfs = []\n",
    "\n",
    "    for file_name in file_list:\n",
    "        dfs.append(pd.read_excel(file_name))\n",
    "\n",
    "    merged_df = pd.concat(dfs, ignore_index=True)\n",
    "\n",
    "    merged_df.to_excel(output_file, index=False)\n",
    "    print(f\"Excel files successfully merged into {output_file}\")\n",
    "except FileNotFoundError as e:\n",
    "    print(f\"Error: {e}\")\n",
    "except Exception as e:\n",
    "    print(f\"An unexpected error occurred: {e}\")\n"
   ]
  },
  {
   "cell_type": "code",
   "execution_count": 2,
   "id": "3082d6a7-d7c5-4af9-98bd-655873c18386",
   "metadata": {},
   "outputs": [
    {
     "name": "stdout",
     "output_type": "stream",
     "text": [
      "Excel files successfully merged into merged_PCA_KM.xlsx\n"
     ]
    }
   ],
   "source": [
    "import pandas as pd\n",
    "\n",
    "file_list = [\n",
    "    \"pca_cluster_KM_cluster1.xlsx\", \"pca_cluster_KM_cluster2.xlsx\", \"pca_cluster_KM_cluster3.xlsx\", \"pca_cluster_KM_cluster4.xlsx\", \"pca_cluster_KM_cluster5.xlsx\",\n",
    "    \"pca_cluster_KM_cluster6.xlsx\", \"pca_cluster_KM_cluster7.xlsx\", \"pca_cluster_KM_cluster8.xlsx\", \"pca_cluster_KM_cluster9.xlsx\", \"pca_cluster_KM_cluster10.xlsx\"\n",
    "]\n",
    "\n",
    "output_file = \"merged_PCA_KM.xlsx\"\n",
    "\n",
    "try:\n",
    "    dfs = []\n",
    "\n",
    "    for file_name in file_list:\n",
    "        dfs.append(pd.read_excel(file_name))\n",
    "\n",
    "    merged_df = pd.concat(dfs, ignore_index=True)\n",
    "\n",
    "    merged_df.to_excel(output_file, index=False)\n",
    "    print(f\"Excel files successfully merged into {output_file}\")\n",
    "except FileNotFoundError as e:\n",
    "    print(f\"Error: {e}\")\n",
    "except Exception as e:\n",
    "    print(f\"An unexpected error occurred: {e}\")\n"
   ]
  },
  {
   "cell_type": "code",
   "execution_count": 3,
   "id": "b47a59d4-e0b0-4c3e-9894-f4097b8344fc",
   "metadata": {},
   "outputs": [
    {
     "name": "stdout",
     "output_type": "stream",
     "text": [
      "Duplicates found in the first column 'Unnamed: 0':\n",
      "                 Unnamed: 0     PCA_1     PCA_2     PCA_3     PCA_4     PCA_5  \\\n",
      "759     _2013_Chris Johnson  0.190246  0.439657  0.685961  0.078707 -0.453433   \n",
      "760     _2013_Chris Johnson  0.224395  0.439657  0.685961  0.078707 -0.525100   \n",
      "761     _2013_Chris Johnson  0.174606  0.335110  0.648836  0.065693 -0.674891   \n",
      "762     _2013_Chris Johnson  0.208755  0.335110  0.648836  0.065693 -0.746559   \n",
      "763     _2013_Chris Johnson  0.163049  0.335110  0.648836  0.065693 -0.432708   \n",
      "...                     ...       ...       ...       ...       ...       ...   \n",
      "9693  _2008_Marcus Williams  0.369886  0.341530  0.651459  0.432621  0.283758   \n",
      "9694  _2008_Marcus Williams  0.145503  0.515892  0.663099  0.269875 -0.310334   \n",
      "9695  _2008_Marcus Williams  0.309499  0.515892  0.663099  0.269875 -0.062300   \n",
      "9960    _2013_Chris Johnson  0.178690  0.439657  0.685961  0.078707 -0.211250   \n",
      "9961    _2013_Chris Johnson  0.212839  0.439657  0.685961  0.078707 -0.282918   \n",
      "\n",
      "         PCA_6     PCA_7     PCA_8     PCA_9    PCA_10    PCA_11    PCA_12  \\\n",
      "759   0.253797  0.407412  0.816050  0.471557 -0.389809 -0.132917  0.303574   \n",
      "760   0.253797  0.407412  0.761963  0.471557 -0.328935 -0.132917  0.253613   \n",
      "761   0.198409  0.438771  0.769046  0.340768 -0.335174 -0.196668  0.293389   \n",
      "762   0.198409  0.438771  0.714959  0.340768 -0.274300 -0.196668  0.243429   \n",
      "763   0.237377  0.416592  1.055965  0.642624 -0.115943 -0.196668  0.293389   \n",
      "...        ...       ...       ...       ...       ...       ...       ...   \n",
      "9693  0.470861  0.472134  0.676608  0.847151 -0.069531 -0.228736 -0.044720   \n",
      "9694  0.683093  0.481141  0.847727  0.790469  0.403248 -0.241153 -0.135059   \n",
      "9695  0.576426  0.479513  0.500088  0.743765  0.137621 -0.241153 -0.135059   \n",
      "9960  0.292765  0.385234  1.102969  0.773413 -0.170577 -0.132917  0.303574   \n",
      "9961  0.292765  0.385234  1.048882  0.773413 -0.109704 -0.132917  0.253613   \n",
      "\n",
      "        PCA_13  clusters  \n",
      "759   0.163383         0  \n",
      "760   0.064683         0  \n",
      "761   0.209234         0  \n",
      "762   0.110534         0  \n",
      "763   0.303919         0  \n",
      "...        ...       ...  \n",
      "9693  0.147662         9  \n",
      "9694  0.200197         9  \n",
      "9695  0.214950         9  \n",
      "9960  0.258068         9  \n",
      "9961  0.159368         9  \n",
      "\n",
      "[1727 rows x 15 columns]\n"
     ]
    }
   ],
   "source": [
    "input_file = \"merged_PCA_KM.xlsx\"\n",
    "\n",
    "try:\n",
    "    df = pd.read_excel(input_file)\n",
    "\n",
    "    first_column = df.columns[0] \n",
    "    duplicates = df[df.duplicated(subset=[first_column], keep=False)]\n",
    "\n",
    "    if not duplicates.empty:\n",
    "        print(f\"Duplicates found in the first column '{first_column}':\")\n",
    "        print(duplicates)\n",
    "    else:\n",
    "        print(f\"No duplicates found in the first column '{first_column}'.\")\n",
    "except FileNotFoundError as e:\n",
    "    print(f\"Error: {e}\")\n",
    "except Exception as e:\n",
    "    print(f\"An unexpected error occurred: {e}\")"
   ]
  },
  {
   "cell_type": "code",
   "execution_count": 4,
   "id": "492fee24-d144-408d-8eb1-e30e6a738dba",
   "metadata": {},
   "outputs": [
    {
     "name": "stdout",
     "output_type": "stream",
     "text": [
      "                Unnamed: 0     PCA_1     PCA_2     PCA_3     PCA_4     PCA_5  \\\n",
      "0          _2000_Tim James  0.044090  0.536443  1.021257  0.274966 -0.813359   \n",
      "1         _2000_A.C. Green  0.514381  0.516897  0.313300  0.185026 -0.309489   \n",
      "2       _2000_John Wallace  0.262794  0.390205  0.990276  0.106898 -0.143341   \n",
      "3        _2000_Bonzi Wells  0.393410  0.344848  0.905500  0.138049 -0.207308   \n",
      "4      _2000_Armen Gilliam  0.316263  0.579885  0.860867  0.215363 -0.144093   \n",
      "...                    ...       ...       ...       ...       ...       ...   \n",
      "10275     _2022_Taj Gibson  0.363065  0.360820  0.205531  0.092982 -0.067633   \n",
      "10276   _2022_Usman Garuba  0.177060  0.445175  0.159705  0.181994  0.045886   \n",
      "10277   _2022_Nerlens Noel  0.402524  0.413827  0.112939  0.188137  0.047725   \n",
      "10278   _2022_Jericho Sims  0.249064  0.494359  0.091632  0.180351 -0.079394   \n",
      "10279       _2022_Ed Davis  0.087376  0.407266  0.086406  0.186013 -0.109121   \n",
      "\n",
      "          PCA_6     PCA_7     PCA_8     PCA_9    PCA_10    PCA_11    PCA_12  \\\n",
      "0      0.058746  0.106627  1.060028  0.552453  0.103234 -0.588656  0.048902   \n",
      "1      0.363682  0.270609  0.545401  0.446677 -0.490109 -0.351332  0.205716   \n",
      "2      0.263309  0.136729  0.681887  0.513326 -0.436331 -0.308441  0.189418   \n",
      "3      0.387081  0.323294  0.641216  0.471136 -0.527680 -0.385581  0.218563   \n",
      "4      0.357749  0.154625  0.614792  0.483478 -0.424389 -0.325181  0.184615   \n",
      "...         ...       ...       ...       ...       ...       ...       ...   \n",
      "10275  0.312908  0.252991  0.866334  0.805526 -0.368326 -0.275443  0.267660   \n",
      "10276  0.516691  0.308041  0.712482  0.858837 -0.328945 -0.358458  0.161586   \n",
      "10277  0.430815  0.419881  0.964862  0.931966 -0.270952 -0.231238  0.370923   \n",
      "10278  0.343359  0.204668  1.058989  0.845303 -0.490934 -0.302354  0.317320   \n",
      "10279  0.367936  0.156465  1.109473  0.834003 -0.385150 -0.236973  0.243946   \n",
      "\n",
      "         PCA_13  clusters  \n",
      "0      0.072100         0  \n",
      "1     -0.014670         0  \n",
      "2      0.051060         0  \n",
      "3      0.045441         0  \n",
      "4      0.035498         0  \n",
      "...         ...       ...  \n",
      "10275  0.058155         9  \n",
      "10276  0.183038         9  \n",
      "10277  0.105479         9  \n",
      "10278  0.082002         9  \n",
      "10279  0.082966         9  \n",
      "\n",
      "[8553 rows x 15 columns]\n"
     ]
    }
   ],
   "source": [
    "import pandas as pd\n",
    "\n",
    "data = pd.read_excel(\"merged_PCA_KM.xlsx\")\n",
    "\n",
    "cleaned_data = data.drop_duplicates(subset=data.columns[0], keep=False)\n",
    "\n",
    "cleaned_data.to_excel(\"Cleaned_Merged_PCA_KM.xlsx\", index=False)\n",
    "\n",
    "print(cleaned_data)\n"
   ]
  },
  {
   "cell_type": "code",
   "execution_count": 5,
   "id": "871cf87a-ecf1-4919-84c4-816e6c2af565",
   "metadata": {},
   "outputs": [
    {
     "name": "stdout",
     "output_type": "stream",
     "text": [
      "No duplicates found in the first column 'Unnamed: 0'.\n"
     ]
    }
   ],
   "source": [
    "input_file = \"Cleaned_Merged_PCA_KM.xlsx\"\n",
    "\n",
    "try:\n",
    "    df = pd.read_excel(input_file)\n",
    "\n",
    "    first_column = df.columns[0] \n",
    "    duplicates = df[df.duplicated(subset=[first_column], keep=False)]\n",
    "\n",
    "    if not duplicates.empty:\n",
    "        print(f\"Duplicates found in the first column '{first_column}':\")\n",
    "        print(duplicates)\n",
    "    else:\n",
    "        print(f\"No duplicates found in the first column '{first_column}'.\")\n",
    "except FileNotFoundError as e:\n",
    "    print(f\"Error: {e}\")\n",
    "except Exception as e:\n",
    "    print(f\"An unexpected error occurred: {e}\")"
   ]
  },
  {
   "cell_type": "code",
   "execution_count": null,
   "id": "5d8f64c4-be4c-4f89-9e02-0203b55407da",
   "metadata": {},
   "outputs": [],
   "source": []
  }
 ],
 "metadata": {
  "kernelspec": {
   "display_name": "Python 3 (ipykernel)",
   "language": "python",
   "name": "python3"
  },
  "language_info": {
   "codemirror_mode": {
    "name": "ipython",
    "version": 3
   },
   "file_extension": ".py",
   "mimetype": "text/x-python",
   "name": "python",
   "nbconvert_exporter": "python",
   "pygments_lexer": "ipython3",
   "version": "3.11.7"
  }
 },
 "nbformat": 4,
 "nbformat_minor": 5
}

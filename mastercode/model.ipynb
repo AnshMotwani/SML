{
 "cells": [
  {
   "cell_type": "code",
   "execution_count": 13,
   "id": "1b91550e-5b01-429e-8f43-975718448bb1",
   "metadata": {},
   "outputs": [],
   "source": [
    "data = pd.read_excel(\"Cleaned_Merged_PCA_KM_with_Impact_Score_Till_2021.xlsx\")"
   ]
  },
  {
   "cell_type": "code",
   "execution_count": 14,
   "id": "9b3a2012-d25c-4e34-9fd4-dd0a85d0e502",
   "metadata": {},
   "outputs": [
    {
     "data": {
      "text/plain": [
       "PLAYER           0\n",
       "PCA_1            0\n",
       "PCA_2            0\n",
       "PCA_3            0\n",
       "PCA_4            0\n",
       "PCA_5            0\n",
       "PCA_6            0\n",
       "PCA_7            0\n",
       "PCA_8            0\n",
       "PCA_9            0\n",
       "PCA_10           0\n",
       "PCA_11           0\n",
       "PCA_12           0\n",
       "PCA_13           0\n",
       "clusters         0\n",
       "Impact_Score    19\n",
       "dtype: int64"
      ]
     },
     "execution_count": 14,
     "metadata": {},
     "output_type": "execute_result"
    }
   ],
   "source": [
    "data.isnull().sum()"
   ]
  },
  {
   "cell_type": "code",
   "execution_count": 15,
   "id": "d09e5bbf-c092-4d9e-b3ef-5d708629c53f",
   "metadata": {},
   "outputs": [
    {
     "name": "stdout",
     "output_type": "stream",
     "text": [
      "PLAYER          0\n",
      "PCA_1           0\n",
      "PCA_2           0\n",
      "PCA_3           0\n",
      "PCA_4           0\n",
      "PCA_5           0\n",
      "PCA_6           0\n",
      "PCA_7           0\n",
      "PCA_8           0\n",
      "PCA_9           0\n",
      "PCA_10          0\n",
      "PCA_11          0\n",
      "PCA_12          0\n",
      "PCA_13          0\n",
      "clusters        0\n",
      "Impact_Score    0\n",
      "dtype: int64\n"
     ]
    }
   ],
   "source": [
    "# Replace null values with 0\n",
    "data = data.fillna(0)\n",
    "\n",
    "# Verify that there are no null values left\n",
    "print(data.isnull().sum())\n"
   ]
  },
  {
   "cell_type": "code",
   "execution_count": null,
   "id": "c339ad3e-591d-429c-b3ec-fcbba5478540",
   "metadata": {},
   "outputs": [
    {
     "name": "stdout",
     "output_type": "stream",
     "text": [
      "Validation MSE: 33.4351\n",
      "Validation R²: 0.4446\n",
      "\n",
      "Feature Importances:\n",
      "     Feature  Importance\n",
      "0      PCA_1    0.140303\n",
      "1      PCA_2    0.111842\n",
      "5      PCA_6    0.107797\n",
      "12    PCA_13    0.104338\n",
      "7      PCA_8    0.084455\n",
      "11    PCA_12    0.076690\n",
      "9     PCA_10    0.068811\n",
      "6      PCA_7    0.065712\n",
      "4      PCA_5    0.056915\n",
      "3      PCA_4    0.053465\n",
      "2      PCA_3    0.049523\n",
      "10    PCA_11    0.040336\n",
      "8      PCA_9    0.035424\n",
      "13  clusters    0.004388\n"
     ]
    }
   ],
   "source": [
    "import pandas as pd\n",
    "import warnings\n",
    "from sklearn.ensemble import RandomForestRegressor\n",
    "from sklearn.model_selection import train_test_split\n",
    "from sklearn.metrics import mean_squared_error, r2_score\n",
    "from itertools import combinations\n",
    "import numpy as np\n",
    "\n",
    "warnings.filterwarnings(\"ignore\")\n",
    "# Separate features and target\n",
    "features = [f\"PCA_{i}\" for i in range(1, 14)] + [\"clusters\"]  # PCA features + cluster\n",
    "target = \"Impact_Score\"\n",
    "\n",
    "X = data[features]\n",
    "y = data[target]\n",
    "\n",
    "# Split data into training and validation sets\n",
    "X_train, X_val, y_train, y_val = train_test_split(X, y, test_size=0.2, random_state=42)\n",
    "\n",
    "# Initialize and train the Random Forest Regressor\n",
    "rf = RandomForestRegressor(random_state=42, n_estimators=200, max_depth=20)\n",
    "rf.fit(X_train, y_train)\n",
    "\n",
    "# Validation performance\n",
    "y_val_pred = rf.predict(X_val)\n",
    "print(f\"Validation MSE: {mean_squared_error(y_val, y_val_pred):.4f}\")\n",
    "print(f\"Validation R²: {r2_score(y_val, y_val_pred):.4f}\")\n",
    "\n",
    "# Feature Importance\n",
    "feature_importances = pd.DataFrame({\n",
    "    'Feature': features,\n",
    "    'Importance': rf.feature_importances_\n",
    "}).sort_values(by='Importance', ascending=False)\n",
    "\n",
    "print(\"\\nFeature Importances:\")\n",
    "print(feature_importances)\n",
    "\n",
    "# Generate all possible 5-player combinations\n",
    "player_ids = data['PLAYER']  # Keep PLAYER names for reference\n",
    "player_features = X.values  # Features for all players\n",
    "combinations_scores = []\n",
    "\n",
    "# Evaluate all 5-player combinations\n",
    "for team in combinations(range(len(player_ids)), 5):\n",
    "    team_features = np.sum(player_features[list(team)], axis=0).reshape(1, -1)  # Sum features for team\n",
    "    team_score = rf.predict(team_features)[0]  # Predict Impact Score for team\n",
    "    combinations_scores.append((team, team_score))\n",
    "\n",
    "# Find the best team\n",
    "best_team = max(combinations_scores, key=lambda x: x[1])\n",
    "best_team_ids = [player_ids.iloc[i] for i in best_team[0]]\n",
    "best_team_score = best_team[1]\n",
    "\n",
    "print(\"\\nBest Team of 5 Players:\")\n",
    "print(best_team_ids)\n",
    "print(f\"Predicted Impact Score: {best_team_score:.2f}\")\n"
   ]
  },
  {
   "cell_type": "code",
   "execution_count": null,
   "id": "2bad23e6-5dc2-4cc5-83ac-dc76fa81b1d1",
   "metadata": {},
   "outputs": [],
   "source": []
  }
 ],
 "metadata": {
  "kernelspec": {
   "display_name": "Python 3 (ipykernel)",
   "language": "python",
   "name": "python3"
  },
  "language_info": {
   "codemirror_mode": {
    "name": "ipython",
    "version": 3
   },
   "file_extension": ".py",
   "mimetype": "text/x-python",
   "name": "python",
   "nbconvert_exporter": "python",
   "pygments_lexer": "ipython3",
   "version": "3.11.7"
  }
 },
 "nbformat": 4,
 "nbformat_minor": 5
}
